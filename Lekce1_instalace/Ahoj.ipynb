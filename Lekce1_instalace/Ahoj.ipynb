{
 "cells": [
  {
   "cell_type": "code",
   "execution_count": 1,
   "id": "6d21bad6",
   "metadata": {},
   "outputs": [
    {
     "name": "stdout",
     "output_type": "stream",
     "text": [
      "Anička\n",
      "Nováková\n"
     ]
    }
   ],
   "source": [
    "\"\"\"\n",
    "pozdrav.py\n",
    "Vytvoř program, který uživateli vypíše pozdrav včetně jeho jména.\n",
    "Jméno a příjmení uživatel zadá na začátku programu.  \n",
    "\n",
    "vstupy: jméno, příjmení\n",
    "výstupy: pozdrav včetně jména\n",
    "\n",
    "1.) načtení dat od uživatele\n",
    "2.) zpracování dat\n",
    "3.) výpis pozdravu\n",
    "\"\"\"\n",
    "\n",
    "jmeno = \"Anička\"\n",
    "prijmeni = 'Nováková'\n",
    "\n",
    "print(jmeno)\n",
    "print(prijmeni)"
   ]
  }
 ],
 "metadata": {
  "kernelspec": {
   "display_name": "venv_czechitas",
   "language": "python",
   "name": "python3"
  },
  "language_info": {
   "codemirror_mode": {
    "name": "ipython",
    "version": 3
   },
   "file_extension": ".py",
   "mimetype": "text/x-python",
   "name": "python",
   "nbconvert_exporter": "python",
   "pygments_lexer": "ipython3",
   "version": "3.13.2"
  }
 },
 "nbformat": 4,
 "nbformat_minor": 5
}
